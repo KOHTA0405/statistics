{
 "cells": [
  {
   "cell_type": "markdown",
   "metadata": {},
   "source": [
    "# 推測統計\n",
    "推測統計では、標本ではなく母集団に興味がある<br>\n",
    "→記述統計は、取得できた標本に興味がある"
   ]
  },
  {
   "cell_type": "code",
   "execution_count": 1,
   "metadata": {},
   "outputs": [
    {
     "name": "stderr",
     "output_type": "stream",
     "text": [
      "/var/folders/q5/s5mcbmt95hd29sp3b9xmr2580000gn/T/ipykernel_86536/3030058279.py:4: DeprecationWarning: \n",
      "Pyarrow will become a required dependency of pandas in the next major release of pandas (pandas 3.0),\n",
      "(to allow more performant data types, such as the Arrow string type, and better interoperability with other libraries)\n",
      "but was not found to be installed on your system.\n",
      "If this would cause problems for you,\n",
      "please provide us feedback at https://github.com/pandas-dev/pandas/issues/54466\n",
      "        \n",
      "  import pandas as pd\n"
     ]
    }
   ],
   "source": [
    "# ライブラリのインストール\n",
    "import matplotlib.pyplot as plt\n",
    "import numpy as np\n",
    "import pandas as pd\n",
    "from scipy import stats\n",
    "from sklearn.preprocessing import StandardScaler\n",
    "from statsmodels.stats.proportion import proportions_ztest\n",
    "import seaborn as sns"
   ]
  },
  {
   "cell_type": "code",
   "execution_count": 2,
   "metadata": {},
   "outputs": [
    {
     "data": {
      "text/html": [
       "<div>\n",
       "<style scoped>\n",
       "    .dataframe tbody tr th:only-of-type {\n",
       "        vertical-align: middle;\n",
       "    }\n",
       "\n",
       "    .dataframe tbody tr th {\n",
       "        vertical-align: top;\n",
       "    }\n",
       "\n",
       "    .dataframe thead th {\n",
       "        text-align: right;\n",
       "    }\n",
       "</style>\n",
       "<table border=\"1\" class=\"dataframe\">\n",
       "  <thead>\n",
       "    <tr style=\"text-align: right;\">\n",
       "      <th></th>\n",
       "      <th>total_bill</th>\n",
       "      <th>tip</th>\n",
       "      <th>sex</th>\n",
       "      <th>smoker</th>\n",
       "      <th>day</th>\n",
       "      <th>time</th>\n",
       "      <th>size</th>\n",
       "      <th>tip_rate</th>\n",
       "    </tr>\n",
       "  </thead>\n",
       "  <tbody>\n",
       "    <tr>\n",
       "      <th>0</th>\n",
       "      <td>16.99</td>\n",
       "      <td>1.01</td>\n",
       "      <td>Female</td>\n",
       "      <td>No</td>\n",
       "      <td>Sun</td>\n",
       "      <td>Dinner</td>\n",
       "      <td>2</td>\n",
       "      <td>0.059447</td>\n",
       "    </tr>\n",
       "    <tr>\n",
       "      <th>1</th>\n",
       "      <td>10.34</td>\n",
       "      <td>1.66</td>\n",
       "      <td>Male</td>\n",
       "      <td>No</td>\n",
       "      <td>Sun</td>\n",
       "      <td>Dinner</td>\n",
       "      <td>3</td>\n",
       "      <td>0.160542</td>\n",
       "    </tr>\n",
       "    <tr>\n",
       "      <th>2</th>\n",
       "      <td>21.01</td>\n",
       "      <td>3.50</td>\n",
       "      <td>Male</td>\n",
       "      <td>No</td>\n",
       "      <td>Sun</td>\n",
       "      <td>Dinner</td>\n",
       "      <td>3</td>\n",
       "      <td>0.166587</td>\n",
       "    </tr>\n",
       "    <tr>\n",
       "      <th>3</th>\n",
       "      <td>23.68</td>\n",
       "      <td>3.31</td>\n",
       "      <td>Male</td>\n",
       "      <td>No</td>\n",
       "      <td>Sun</td>\n",
       "      <td>Dinner</td>\n",
       "      <td>2</td>\n",
       "      <td>0.139780</td>\n",
       "    </tr>\n",
       "    <tr>\n",
       "      <th>4</th>\n",
       "      <td>24.59</td>\n",
       "      <td>3.61</td>\n",
       "      <td>Female</td>\n",
       "      <td>No</td>\n",
       "      <td>Sun</td>\n",
       "      <td>Dinner</td>\n",
       "      <td>4</td>\n",
       "      <td>0.146808</td>\n",
       "    </tr>\n",
       "    <tr>\n",
       "      <th>...</th>\n",
       "      <td>...</td>\n",
       "      <td>...</td>\n",
       "      <td>...</td>\n",
       "      <td>...</td>\n",
       "      <td>...</td>\n",
       "      <td>...</td>\n",
       "      <td>...</td>\n",
       "      <td>...</td>\n",
       "    </tr>\n",
       "    <tr>\n",
       "      <th>239</th>\n",
       "      <td>29.03</td>\n",
       "      <td>5.92</td>\n",
       "      <td>Male</td>\n",
       "      <td>No</td>\n",
       "      <td>Sat</td>\n",
       "      <td>Dinner</td>\n",
       "      <td>3</td>\n",
       "      <td>0.203927</td>\n",
       "    </tr>\n",
       "    <tr>\n",
       "      <th>240</th>\n",
       "      <td>27.18</td>\n",
       "      <td>2.00</td>\n",
       "      <td>Female</td>\n",
       "      <td>Yes</td>\n",
       "      <td>Sat</td>\n",
       "      <td>Dinner</td>\n",
       "      <td>2</td>\n",
       "      <td>0.073584</td>\n",
       "    </tr>\n",
       "    <tr>\n",
       "      <th>241</th>\n",
       "      <td>22.67</td>\n",
       "      <td>2.00</td>\n",
       "      <td>Male</td>\n",
       "      <td>Yes</td>\n",
       "      <td>Sat</td>\n",
       "      <td>Dinner</td>\n",
       "      <td>2</td>\n",
       "      <td>0.088222</td>\n",
       "    </tr>\n",
       "    <tr>\n",
       "      <th>242</th>\n",
       "      <td>17.82</td>\n",
       "      <td>1.75</td>\n",
       "      <td>Male</td>\n",
       "      <td>No</td>\n",
       "      <td>Sat</td>\n",
       "      <td>Dinner</td>\n",
       "      <td>2</td>\n",
       "      <td>0.098204</td>\n",
       "    </tr>\n",
       "    <tr>\n",
       "      <th>243</th>\n",
       "      <td>18.78</td>\n",
       "      <td>3.00</td>\n",
       "      <td>Female</td>\n",
       "      <td>No</td>\n",
       "      <td>Thur</td>\n",
       "      <td>Dinner</td>\n",
       "      <td>2</td>\n",
       "      <td>0.159744</td>\n",
       "    </tr>\n",
       "  </tbody>\n",
       "</table>\n",
       "<p>244 rows × 8 columns</p>\n",
       "</div>"
      ],
      "text/plain": [
       "     total_bill   tip     sex smoker   day    time  size  tip_rate\n",
       "0         16.99  1.01  Female     No   Sun  Dinner     2  0.059447\n",
       "1         10.34  1.66    Male     No   Sun  Dinner     3  0.160542\n",
       "2         21.01  3.50    Male     No   Sun  Dinner     3  0.166587\n",
       "3         23.68  3.31    Male     No   Sun  Dinner     2  0.139780\n",
       "4         24.59  3.61  Female     No   Sun  Dinner     4  0.146808\n",
       "..          ...   ...     ...    ...   ...     ...   ...       ...\n",
       "239       29.03  5.92    Male     No   Sat  Dinner     3  0.203927\n",
       "240       27.18  2.00  Female    Yes   Sat  Dinner     2  0.073584\n",
       "241       22.67  2.00    Male    Yes   Sat  Dinner     2  0.088222\n",
       "242       17.82  1.75    Male     No   Sat  Dinner     2  0.098204\n",
       "243       18.78  3.00  Female     No  Thur  Dinner     2  0.159744\n",
       "\n",
       "[244 rows x 8 columns]"
      ]
     },
     "execution_count": 2,
     "metadata": {},
     "output_type": "execute_result"
    }
   ],
   "source": [
    "# 使用するデータのロード\n",
    "df = sns.load_dataset(\"tips\")\n",
    "df[\"tip_rate\"] = df[\"tip\"] / df[\"total_bill\"]  ## 支払に対するチップの割合\n",
    "df"
   ]
  },
  {
   "cell_type": "markdown",
   "metadata": {},
   "source": [
    "## 標本分布\n",
    "* 標本分布の中身は確率的に変動する\n",
    "* 標本統計量も同様に確率的に変動する値(つまり確率変数)\n",
    "* 標本統計量が従う確率分布を標本分布と呼ぶ"
   ]
  },
  {
   "cell_type": "markdown",
   "metadata": {},
   "source": [
    "## 推定量\n",
    "* 母数の推定に使う標本統計量\n",
    "* 実際の値を推定値という"
   ]
  },
  {
   "cell_type": "markdown",
   "metadata": {},
   "source": [
    "## 不偏性(unbiasedness)\n",
    "* 推定量が\"平均的に\"母数と一致する場合、その推定量は「不偏性がある」という\n",
    "* 普遍性がある推定量を、不偏推定量(unbiased estimator)と呼ぶ\n",
    "* 確率の文脈では、平均のことを期待値という"
   ]
  },
  {
   "cell_type": "markdown",
   "metadata": {},
   "source": [
    "## 大数の法則\n",
    "* 標本平均と母集団平均の間の関係\n",
    "* サンプルサイズ$n$を大きくすると、標本平均$\\bar{x}$が、母平均$\\mu$に限りなく近づく"
   ]
  },
  {
   "cell_type": "code",
   "execution_count": 54,
   "metadata": {},
   "outputs": [
    {
     "data": {
      "text/plain": [
       "[<matplotlib.lines.Line2D at 0x16a0ced10>]"
      ]
     },
     "execution_count": 54,
     "metadata": {},
     "output_type": "execute_result"
    },
    {
     "data": {
      "image/png": "[encoded data removed]",
      "text/plain": [
       "<Figure size 640x480 with 1 Axes>"
      ]
     },
     "metadata": {},
     "output_type": "display_data"
    }
   ],
   "source": [
    "# 大数の法則の確認\n",
    "# サンプルサイズを2〜244まで増やしていき、その際の標本誤差を調べる\n",
    "sampled_average_list = []\n",
    "for n in range(len(df) - 2):\n",
    "    sampled_average_list.append(df[\"tip\"].sample(n + 2).mean())\n",
    "\n",
    "\n",
    "def get_error(sampled, df, column):\n",
    "    mu = df[column].mean()\n",
    "    return sampled - mu\n",
    "\n",
    "\n",
    "y = get_error(sampled_average_list, df, \"tip\")\n",
    "plt.plot(y)"
   ]
  },
  {
   "cell_type": "markdown",
   "metadata": {},
   "source": [
    "## 平均の標本分布\n",
    "* 平均の標本分布の平均は、母平均と同じ$\\mu$になる\n",
    "* 平均の標本分布の分散は、母分散を$n$で割った値($\\sigma^2/n$)になる"
   ]
  },
  {
   "cell_type": "code",
   "execution_count": 50,
   "metadata": {},
   "outputs": [
    {
     "name": "stdout",
     "output_type": "stream",
     "text": [
      "母平均:2.99827868852459\n",
      "母分散:1.914454638062471\n"
     ]
    }
   ],
   "source": [
    "# 元データの平均と分散をあらかじめみておく\n",
    "print(f\"母平均:{df['tip'].mean()}\")\n",
    "print(f\"母分散:{df['tip'].var()}\")\n",
    "sigma = df[\"tip\"].var()"
   ]
  },
  {
   "cell_type": "code",
   "execution_count": 51,
   "metadata": {},
   "outputs": [
    {
     "name": "stdout",
     "output_type": "stream",
     "text": [
      "標本平均の平均:3.0077128\n",
      "標本平均の分散:0.030816415916160002\n",
      "分散を近似値で計算：0.03828909276124942\n"
     ]
    }
   ],
   "source": [
    "sampled_average_list = []\n",
    "n = 50\n",
    "for _ in range(1000):\n",
    "    sampled_average_list.append(df[\"tip\"].sample(n).mean())\n",
    "print(f\"標本平均の平均:{np.mean(sampled_average_list)}\")\n",
    "print(f\"標本平均の分散:{np.var(sampled_average_list)}\")\n",
    "print(f\"分散を近似値で計算：{sigma/n}\")"
   ]
  },
  {
   "cell_type": "code",
   "execution_count": 53,
   "metadata": {},
   "outputs": [
    {
     "data": {
      "text/plain": [
       "<seaborn.axisgrid.FacetGrid at 0x16a0a03d0>"
      ]
     },
     "execution_count": 53,
     "metadata": {},
     "output_type": "execute_result"
    },
    {
     "data": {
      "image/png": "[encoded data removed]",
      "text/plain": [
       "<Figure size 500x500 with 1 Axes>"
      ]
     },
     "metadata": {},
     "output_type": "display_data"
    }
   ],
   "source": [
    "sns.displot(sampled_average_list, kde=True)"
   ]
  },
  {
   "cell_type": "markdown",
   "metadata": {},
   "source": [
    "## 不偏分散\n",
    "* 特徴\n",
    "  * 母分散の不偏推定量\n",
    "  * 不偏分散は、分散の式に置いて、$n$ではなく、$n-1$で割った値\n",
    "* 不偏分散の算出\n",
    "  * stats.tvar(a)\n",
    "  * np.var(a, ddof=1)"
   ]
  },
  {
   "cell_type": "code",
   "execution_count": 55,
   "metadata": {},
   "outputs": [
    {
     "data": {
      "text/plain": [
       "1.914454638062471"
      ]
     },
     "execution_count": 55,
     "metadata": {},
     "output_type": "execute_result"
    }
   ],
   "source": [
    "stats.tvar(df[\"tip\"])"
   ]
  },
  {
   "cell_type": "code",
   "execution_count": 56,
   "metadata": {},
   "outputs": [
    {
     "data": {
      "text/plain": [
       "1.914454638062471"
      ]
     },
     "execution_count": 56,
     "metadata": {},
     "output_type": "execute_result"
    }
   ],
   "source": [
    "np.var(df[\"tip\"], ddof=1)"
   ]
  },
  {
   "cell_type": "code",
   "execution_count": 57,
   "metadata": {},
   "outputs": [
    {
     "data": {
      "text/plain": [
       "1.9066085124966412"
      ]
     },
     "execution_count": 57,
     "metadata": {},
     "output_type": "execute_result"
    }
   ],
   "source": [
    "np.var(df[\"tip\"])"
   ]
  },
  {
   "cell_type": "markdown",
   "metadata": {},
   "source": [
    "## 不偏分散の平方根の不偏性\n",
    "* 特徴\n",
    "  * 不偏分散の平方根は母集団の標準偏差$\\sigma$の不偏推定量にはならない\n",
    "  * 不偏分散の平方根を「不偏標準偏差」と呼ぶのは間違い\n",
    "* 不偏分散の平方根の算出\n",
    "  * stats.tstd(a)\n",
    "  * np.std(a, ddof=1)"
   ]
  },
  {
   "cell_type": "code",
   "execution_count": 58,
   "metadata": {},
   "outputs": [
    {
     "data": {
      "text/plain": [
       "1.3836381890011822"
      ]
     },
     "execution_count": 58,
     "metadata": {},
     "output_type": "execute_result"
    }
   ],
   "source": [
    "stats.tstd(df[\"tip\"])"
   ]
  },
  {
   "cell_type": "code",
   "execution_count": 59,
   "metadata": {},
   "outputs": [
    {
     "data": {
      "text/plain": [
       "1.3836381890011822"
      ]
     },
     "execution_count": 59,
     "metadata": {},
     "output_type": "execute_result"
    }
   ],
   "source": [
    "np.std(df[\"tip\"], ddof=1)"
   ]
  },
  {
   "cell_type": "markdown",
   "metadata": {},
   "source": [
    "### 不偏分散の\"不偏性\"を確認してみよう\n",
    "* データセットを母集団と見立てて、50個の標本を100回抽出して、標本の分散と不偏分散の平均がどうなるのか見てみよう"
   ]
  },
  {
   "cell_type": "code",
   "execution_count": 60,
   "metadata": {},
   "outputs": [
    {
     "name": "stdout",
     "output_type": "stream",
     "text": [
      "母平均:2.99827868852459\n",
      "母分散:1.914454638062471\n"
     ]
    }
   ],
   "source": [
    "# 元データの平均と分散をあらかじめみておく\n",
    "print(f\"母平均:{df['tip'].mean()}\")\n",
    "print(f\"母分散:{df['tip'].var()}\")\n",
    "sigma = df[\"tip\"].var()"
   ]
  },
  {
   "cell_type": "code",
   "execution_count": 69,
   "metadata": {},
   "outputs": [
    {
     "name": "stdout",
     "output_type": "stream",
     "text": [
      "標本分散の平均: 1.8748514552400002\n",
      "不偏分散の平均: 1.890704379510204\n"
     ]
    }
   ],
   "source": [
    "sampled_var_list = []\n",
    "sampled_tvar_list = []\n",
    "n = 50\n",
    "for _ in range(1000):\n",
    "    sampled_var_list.append(np.var((df[\"tip\"].sample(n))))\n",
    "    sampled_tvar_list.append(stats.tvar((df[\"tip\"].sample(n))))\n",
    "print(f\"標本分散の平均: {np.mean(sampled_var_list)}\")\n",
    "print(f\"不偏分散の平均: {np.mean(sampled_tvar_list)}\")"
   ]
  },
  {
   "cell_type": "markdown",
   "metadata": {},
   "source": [
    "# 推定"
   ]
  },
  {
   "cell_type": "markdown",
   "metadata": {},
   "source": [
    "## 信頼区間\n",
    "*  母数の値を区間を持って推定すること(ex. 母比率は0.5~0.7である)\n",
    "*  区間とともに確度をつける(ex. 95%の確度で母比率は0.5~0.7である)\n",
    "*  この区間を信頼区間(CI: confidence interval)という"
   ]
  },
  {
   "cell_type": "markdown",
   "metadata": {},
   "source": [
    "### 比率の区間推定\n",
    "* 特徴\n",
    "  * 標本の比率の値から母集団の比率の値を推定する\n",
    "  * 実際に比率の区間推定が応用されている例は多い(選挙速報, 内閣支持率, 視聴率, etc....)\n",
    "* Pythonでの算出\n",
    "  * stats.binom.interval(alpha, n, p)\n",
    "  * 戻り値は、n個のときにどの範囲になるか"
   ]
  },
  {
   "cell_type": "code",
   "execution_count": 5,
   "metadata": {},
   "outputs": [
    {
     "data": {
      "text/plain": [
       "(570.0, 630.0)"
      ]
     },
     "execution_count": 5,
     "metadata": {},
     "output_type": "execute_result"
    }
   ],
   "source": [
    "# サンプルサイズ1000の標本から、標本比率0.6(p)となったとき、母比率の95%信頼区間を求める\n",
    "stats.binom.interval(0.95, 1000, 0.6)"
   ]
  },
  {
   "cell_type": "markdown",
   "metadata": {},
   "source": [
    "### Challenge\n",
    "* データセットを母集団と見立てて、50個の標本比率から母比率を区間推定しよう\n",
    "* これを100回繰り返して、何回正しく推定できるのかをみてみよう"
   ]
  },
  {
   "cell_type": "code",
   "execution_count": 11,
   "metadata": {},
   "outputs": [
    {
     "data": {
      "text/plain": [
       "sex\n",
       "Male      0.643443\n",
       "Female    0.356557\n",
       "Name: proportion, dtype: float64"
      ]
     },
     "execution_count": 11,
     "metadata": {},
     "output_type": "execute_result"
    }
   ],
   "source": [
    "# 母集団と見立てたデータセットの母比率を先にみておく\n",
    "df[\"sex\"].value_counts(normalize=True)"
   ]
  },
  {
   "cell_type": "code",
   "execution_count": 36,
   "metadata": {},
   "outputs": [
    {
     "name": "stdout",
     "output_type": "stream",
     "text": [
      "100回繰り返したときに95%区間に母比率が含まれていた回数: 97\n"
     ]
    }
   ],
   "source": [
    "# 母集団からサンプルサイズ50の標本を抽出し、標本比率を計算\n",
    "# それが、母比率を含んでいるかどうかをチェック\n",
    "# これを100回繰り返す\n",
    "column = \"sex\"\n",
    "target = \"Male\"\n",
    "alpha = 0.95\n",
    "n = 50\n",
    "population_male_ratio = df[column].value_counts(normalize=True)[target]\n",
    "sampled_ratio = []\n",
    "ci_list = []\n",
    "ci_results = []\n",
    "\n",
    "for _ in range(100):\n",
    "    sampled_male_ratio = df.sample(n)[column].value_counts(normalize=True)[target]\n",
    "    ci = stats.binom.interval(alpha, n, sampled_male_ratio)\n",
    "    # print(sampled_male_ratio, ci)\n",
    "    ci_list.append(ci)\n",
    "    # ciは、50人の場合の男性の人数で返されるので、比率に直してから比較\n",
    "    min_ratio = ci[0] / n\n",
    "    max_ratio = ci[1] / n\n",
    "    check = min_ratio <= population_male_ratio and population_male_ratio <= max_ratio\n",
    "    ci_results.append(check)\n",
    "print(f\"100回繰り返したときに95%区間に母比率が含まれていた回数: {sum(ci_results)}\")"
   ]
  },
  {
   "cell_type": "markdown",
   "metadata": {},
   "source": [
    "### 平均値の区間推定\n",
    "* 特徴\n",
    "  * 標本の平均値から母集団の平均値を推定する\n",
    "  * 実際に平均値の区間推定が応用されている例は多い(平均身長、平均年収、etc.)\n",
    "* Pythonでの算出\n",
    "  * stats.norm.interval(alpha, loc, scale)  (alpha: 信頼区間、loc: 標本平均、scale: 標本の不偏分散の平方根/ルートn)"
   ]
  },
  {
   "cell_type": "markdown",
   "metadata": {},
   "source": [
    "### Challenge\n",
    "* データセットを母集団と見立てて、50個の標本平均から母平均を区間推定しよう\n",
    "* これを100回繰り返して、何回正しく推定できるのかをみてみよう"
   ]
  },
  {
   "cell_type": "code",
   "execution_count": 7,
   "metadata": {},
   "outputs": [
    {
     "data": {
      "text/plain": [
       "2.99827868852459"
      ]
     },
     "execution_count": 7,
     "metadata": {},
     "output_type": "execute_result"
    }
   ],
   "source": [
    "df[\"tip\"].mean()"
   ]
  },
  {
   "cell_type": "code",
   "execution_count": 21,
   "metadata": {},
   "outputs": [
    {
     "name": "stdout",
     "output_type": "stream",
     "text": [
      "100回繰り返したときに95%区間に母平均が含まれていた回数: 93\n"
     ]
    }
   ],
   "source": [
    "# 母集団からサンプルサイズ50の標本を抽出し、標本平均を計算\n",
    "# それが、母平均を含んでいるかどうかをチェック\n",
    "# これを100回繰り返す\n",
    "column = \"tip\"\n",
    "alpha = 0.95\n",
    "n = 50\n",
    "real_tip_avg = df[column].mean()\n",
    "ci_list = []\n",
    "ci_results = []\n",
    "\n",
    "for _ in range(100):\n",
    "    sampled_tip = df[column].sample(n)\n",
    "    sampled_tip_avg = sampled_tip.mean()\n",
    "    sampled_tip_tstd = stats.tstd(sampled_tip)\n",
    "    ci = stats.norm.interval(alpha, sampled_tip_avg, sampled_tip_tstd / np.sqrt(n))\n",
    "    ci_list.append(ci)\n",
    "    # print(ci)\n",
    "    min_val, max_val = ci\n",
    "    check = min_val <= real_tip_avg and real_tip_avg <= max_val\n",
    "    ci_results.append(check)\n",
    "print(f\"100回繰り返したときに95%区間に母平均が含まれていた回数: {sum(ci_results)}\")"
   ]
  },
  {
   "cell_type": "markdown",
   "metadata": {},
   "source": [
    "## t分布\n",
    "* 特徴\n",
    "  * 母標準偏差$\\sigma$の代わりに、不偏分散$s'^2$の平方根$s'$を使用することで変形した分布\n",
    "  * 自由度(degree of feedom)$n-1$をパラメータにとる(nはサンプル数)\n",
    "  * 標準正規分布に比べ、裾野が広くなる\n",
    "  * $n$を大きくすると標準正規分布に近づく($n$が十分大きければ、標準正規分布に近似可能)\n",
    "* Pythonでの算出\n",
    "  * stats.t(df) (df: 自由度)"
   ]
  },
  {
   "cell_type": "code",
   "execution_count": 32,
   "metadata": {},
   "outputs": [
    {
     "data": {
      "text/plain": [
       "<matplotlib.legend.Legend at 0x286429b50>"
      ]
     },
     "execution_count": 32,
     "metadata": {},
     "output_type": "execute_result"
    },
    {
     "data": {
      "image/png": "[encoded data removed]",
      "text/plain": [
       "<Figure size 640x480 with 1 Axes>"
      ]
     },
     "metadata": {},
     "output_type": "display_data"
    }
   ],
   "source": [
    "x = np.linspace(-3, 3, 100)\n",
    "z = stats.norm.pdf(x)\n",
    "for dof in range(1, 12, 5):\n",
    "    t = stats.t(dof).pdf(x)\n",
    "    plt.plot(x, t, label=f\"t dist(dof={dof})\")\n",
    "plt.plot(x, z, label=\"std norm\", linewidth=3)\n",
    "plt.legend()"
   ]
  },
  {
   "cell_type": "markdown",
   "metadata": {},
   "source": [
    "### Challenge\n",
    "* データセットを母集団と見立てて、50個の標本平均から正規分布を使った母平均の区間推定と、t分布を使った母平均の区間推定をしよう\n",
    "* 結果がどう異なるのか見てみよう\n",
    "* 95%信頼区間とする\n",
    "* t分布の信頼区間\n",
    "  * stats.t.interval(alpha, loc, scale, df)"
   ]
  },
  {
   "cell_type": "code",
   "execution_count": 36,
   "metadata": {},
   "outputs": [
    {
     "name": "stdout",
     "output_type": "stream",
     "text": [
      "正規分布を使った母平均の区間推定: (2.580988042538698, 3.2598119574613027)\n",
      "t分布を使った母平均の区間推定: (2.572396735968697, 3.2684032640313037)\n"
     ]
    }
   ],
   "source": [
    "alpha = 0.95\n",
    "column = \"tip\"\n",
    "n = 50\n",
    "poplulation_tip_avg = df[column].mean()\n",
    "sampled_tip = df[column].sample(n)\n",
    "sampled_tip_avg = sampled_tip.mean()\n",
    "sampled_tip_tstd = stats.tstd(sampled_tip)\n",
    "norm_val = stats.norm.interval(\n",
    "    alpha, loc=sampled_tip_avg, scale=sampled_tip_tstd / np.sqrt(n)\n",
    ")\n",
    "t_val = stats.t.interval(\n",
    "    alpha, loc=sampled_tip_avg, scale=sampled_tip_tstd / np.sqrt(n), df=n - 1\n",
    ")\n",
    "print(f\"正規分布を使った母平均の区間推定: {norm_val}\")\n",
    "print(f\"t分布を使った母平均の区間推定: {t_val}\")"
   ]
  },
  {
   "cell_type": "markdown",
   "metadata": {},
   "source": [
    "# 統計的仮説検定\n",
    "* 統計的に仮説が正しいかどうかを確かめる\n",
    "* 意思決定を左右する重要な役割を果たす\n",
    "* 様々な検定があるが、本講座では基本的な検定のみを扱う"
   ]
  },
  {
   "cell_type": "markdown",
   "metadata": {},
   "source": [
    "## 帰無仮説と対立仮説\n",
    "* 帰無仮説: 棄却することを狙っている\n",
    "* 対立仮説: 成立することを狙っている"
   ]
  },
  {
   "cell_type": "markdown",
   "metadata": {},
   "source": [
    "## 統計的仮説検定の流れ\n",
    "1. 帰無仮説と対立仮説を立てる\n",
    "2. 帰無仮説が正しいと仮定のもと、標本観察を行う(標本統計量を計算する)\n",
    "3. 標本観察の結果が仮定もとでどのくらいの確率で起こるのかを調べて、帰無仮説を否定できるかを確認する(否定した場合、対立仮説が成立)"
   ]
  },
  {
   "cell_type": "markdown",
   "metadata": {},
   "source": [
    "## 2群の比率差の検定(Z検定)\n",
    "* 2群の比率に差があるのかを検定する\n",
    "  * 例. 自社のwebサイトにおいて、新しい施策をしたことにより、クリック率が上がったかを確かめたい(A/Bテスト)\n",
    "* あくまでも、**母数に差があるのか**を検定している\n",
    "  * このテストの中では、今回とれたサンプルを見ているが、母集団の過去や未来閲覧されるであろうクリック率に差があるのかを検定している"
   ]
  },
  {
   "cell_type": "markdown",
   "metadata": {},
   "source": [
    "### 帰無仮説と対立仮説(比率差の検定)\n",
    "* 帰無仮説：「差はない」(**$p_1$=$p_2$**)\n",
    "* 対立仮説：「従来施策のクリック率より新施策のクリック率のほうが高い」(**$p_1$<$p_2$**)\n",
    "  * \"差がある\"($p_1$≠$p_2$)を対立仮説(両側検定)にすると、**新施策の方がクリック率が高い**とは言えなくなってしまう"
   ]
  },
  {
   "cell_type": "markdown",
   "metadata": {},
   "source": [
    "### 標本観察\n",
    "* 2つの標本から比率を計算し、**比率の差がどのような標本分布**になるかを考える\n",
    "* 帰無仮説が正しいとした場合、得られた比率の差がどのくらいの確率で得られるかを考える"
   ]
  },
  {
   "cell_type": "markdown",
   "metadata": {},
   "source": [
    "### 比率差の標本分布\n",
    "* 比率の差 $\\frac{x_1}{n_1}$- $\\frac{x_2}{n_2}$の標本分布は、それぞれの比率の標本分布の平均の差と分散の和の正規分布になる\n",
    "  * 平均$\\mu$=$p_1$-$p_2$, 分散$\\sigma^2$=$\\frac{p_1q_1}{n_1}$+$\\frac{p_2q_2}{n_2}$の正規分布"
   ]
  },
  {
   "cell_type": "markdown",
   "metadata": {},
   "source": [
    "### 有意水準\n",
    "* 帰無仮説を棄却する境目\n",
    "* 「帰無仮説を正しいとすると、滅多に起きない確率」の基準を有意水準($\\alpha$)という\n",
    "  * 通常は、 $\\alpha$=0.05もしくは、$\\alpha$=0.01\n",
    "* 検定統計量が有意水準以下の確率で得られる場合、帰無仮説を棄却する\n",
    "* 帰無仮説が棄却された時、「統計的に有意である」という"
   ]
  },
  {
   "cell_type": "markdown",
   "metadata": {},
   "source": [
    "### 標本分布の標準化\n",
    "* 平均$\\mu$=$p_1$-$p_2$, 分散$\\sigma^2$=$\\frac{p_1q_1}{n_1}$+$\\frac{p_2q_2}{n_2}$の正規分布 を標準化する(平均を引いて、標準偏差で割る)\n",
    "* $z$ = $\\frac{\\frac{x_1}{n_1}-\\frac{x_2}{n_2}}{\\sqrt{p(1-p)(\\frac{1}{n_1}+\\frac{1}{n_2})}}$が、標準正規分布 $N$(0,1)に従う<br>\n",
    "\n",
    "→**母比率$p$は使えない**ので、標本から得られる推定値$\\hat{p}$を考える"
   ]
  },
  {
   "cell_type": "markdown",
   "metadata": {},
   "source": [
    "### 母集団の$p$の推定値$\\hat{p}$を計算する\n",
    "* **2つの標本を合わせた比率**を、母比率$p$の推定値$\\hat{p}$とする\n",
    "$$ \\hat{p} = \\frac{x_1+x_2}{n_1+n_2} $$\n",
    "\n",
    "* 2つの標本を1つにまとめるのが無理矢理に見えるかもしれないが、「帰無仮説として$p_1=p_2$としているので、まとめたものを推定値として使おう」　という考え"
   ]
  },
  {
   "cell_type": "markdown",
   "metadata": {},
   "source": [
    "### p値(probability value)\n",
    "* 帰無仮説が正しいとした時に、その検定統計量が得られる確率をp値という\n",
    "* すなわち $p$ < $\\alpha$のとき、帰無仮説を棄却できる"
   ]
  },
  {
   "cell_type": "markdown",
   "metadata": {},
   "source": [
    "### Pythonによる比率の差の検定\n",
    "* statsmodels.stats.proportion.proportions_ztest(count, nobs, alternative)\n",
    "  * count: 標本の中で実際に観察できた数\n",
    "  * nobs(the number of observations): 標本の大きさ\n",
    "  * alternative: \"two-sided\", \"smaller\", \"larger\"(\"smaller\": p1<p2, \"larger\":p1>p2)\n",
    "* 戻り値(タプル)\n",
    "  * zstat(検定統計量)\n",
    "  * p値"
   ]
  },
  {
   "cell_type": "code",
   "execution_count": 44,
   "metadata": {},
   "outputs": [
    {
     "data": {
      "text/plain": [
       "(-0.3840618481549573, 0.35046630388746547)"
      ]
     },
     "execution_count": 44,
     "metadata": {},
     "output_type": "execute_result"
    }
   ],
   "source": [
    "proportions_ztest([30, 33], [1000], alternative=\"smaller\")"
   ]
  },
  {
   "cell_type": "markdown",
   "metadata": {},
   "source": [
    "上記の結果は、p値が有意水準5％を下回らなかったので、帰無仮説を棄却できないという結果となる"
   ]
  },
  {
   "cell_type": "markdown",
   "metadata": {},
   "source": [
    "## 連関の検定(カイ二乗検定)\n",
    "* 内容\n",
    "  * 2つのカテゴリ変数間に連関があるかを検定する\n",
    "  * 帰無仮説には「連関がない(=独立)」\n",
    "  * 対立仮説には「連関がある(=独立ではない)」　→　片側検定はない\n",
    "* 実施方法\n",
    "  * 帰無仮説(連関がない)を仮定した時に、カテゴリ変数間の$\\chi^2$(カイ二乗)値がどのくらいの確率で得られるのかを考える\n",
    "  * $\\chi^2$値は、$\\chi^2$分布に従う(独立なら0になる)"
   ]
  },
  {
   "cell_type": "markdown",
   "metadata": {},
   "source": [
    "### $\\chi^2$分布\n",
    "* 自由度(degree of freedom)を唯一のパラメータにとる分布\n",
    "* 自由度=($a$ - 1)($b$ - 1) ($a$行$b$列の分割表)\n",
    "  * 自由度とは、自由に値を決められる数のこと\n",
    "    * 「お酒を飲む」人数が決まれば自動的に「飲まない」人数が決まる\n",
    "    * →a個値があれば、a-1個の値を自由に決められる(最後の1つは自動的に決まる)"
   ]
  },
  {
   "cell_type": "markdown",
   "metadata": {},
   "source": [
    "### $\\chi^2$の$p$値の求め方\n",
    "* 帰無仮説が正しいとした場合の標本から計算された$\\chi^2$が得られる確率\n",
    "* 2変数が独立の関係にある場合は、$\\chi^2$=0になり、この時$p$値=1\n",
    "* $\\chi^2$分布の右から確率を累積した値(右側の面積)"
   ]
  },
  {
   "cell_type": "markdown",
   "metadata": {},
   "source": [
    "### Pythonによるカイ二乗検定\n",
    "* chi2, p, dof, ex = stats.chi2_contingency(obs, correction=False)\n",
    "  * obs: 観測度数\n",
    "  * correction: イェイツの修正(通常はFalse)"
   ]
  },
  {
   "cell_type": "code",
   "execution_count": 3,
   "metadata": {},
   "outputs": [
    {
     "data": {
      "text/plain": [
       "Chi2ContingencyResult(statistic=24.107142857142858, pvalue=9.112167294252327e-07, dof=1, expected_freq=array([[ 6., 14.],\n",
       "       [24., 56.]]))"
      ]
     },
     "execution_count": 3,
     "metadata": {},
     "output_type": "execute_result"
    }
   ],
   "source": [
    "obs = [[15, 5], [15, 65]]\n",
    "stats.chi2_contingency(obs, correction=False)"
   ]
  },
  {
   "cell_type": "markdown",
   "metadata": {},
   "source": [
    "### カイ二乗検定と比率差の検定\n",
    "* 自由度1のカイ二乗検定は、比率さの検定と同じ"
   ]
  },
  {
   "cell_type": "code",
   "execution_count": 7,
   "metadata": {},
   "outputs": [],
   "source": [
    "n = 50\n",
    "sample_df1 = df.sample(n)\n",
    "sample_df2 = df.sample(n)\n",
    "count1 = sample_df1[\"time\"].value_counts()[\"Dinner\"]\n",
    "count2 = sample_df2[\"time\"].value_counts()[\"Dinner\"]"
   ]
  },
  {
   "cell_type": "code",
   "execution_count": 8,
   "metadata": {},
   "outputs": [
    {
     "data": {
      "text/plain": [
       "(0.6486581250966152, 0.5165593764787644)"
      ]
     },
     "execution_count": 8,
     "metadata": {},
     "output_type": "execute_result"
    }
   ],
   "source": [
    "# Z検定\n",
    "proportions_ztest([count1, count2], [n, n], alternative=\"two-sided\")"
   ]
  },
  {
   "cell_type": "code",
   "execution_count": 11,
   "metadata": {},
   "outputs": [],
   "source": [
    "sample1_freq = sample_df1[\"time\"].value_counts().values\n",
    "sample2_freq = sample_df2[\"time\"].value_counts().values"
   ]
  },
  {
   "cell_type": "code",
   "execution_count": 13,
   "metadata": {},
   "outputs": [
    {
     "data": {
      "text/plain": [
       "Chi2ContingencyResult(statistic=0.42075736325385693, pvalue=0.5165593764787638, dof=1, expected_freq=array([[34.5, 15.5],\n",
       "       [34.5, 15.5]]))"
      ]
     },
     "execution_count": 13,
     "metadata": {},
     "output_type": "execute_result"
    }
   ],
   "source": [
    "# カイ二乗検定\n",
    "stats.chi2_contingency([sample1_freq, sample2_freq], correction=False)"
   ]
  },
  {
   "cell_type": "markdown",
   "metadata": {},
   "source": [
    "## 2群の平均値差の検定(t検定)\n",
    "* 最もよく出てくる検定\n",
    "* t分布を使うので一般にt検定と呼ばれる\n",
    "* 平均値差の検定には「対応がない」ものと「対応がある」ものがある\n",
    "  * 対応なし\n",
    "    * それぞれの標本は対応していない\n",
    "    * ex. 実験Aと実験Bを行うが、それぞれ被験者は別\n",
    "      * 母集団はAとBで二つと考える\n",
    "      * 母集団の平均$\\mu_A$と$\\mu_B$に差があると言えるのか？を検定\n",
    "  * 対応あり\n",
    "    * それぞれの標本は対応している\n",
    "    * ex. 投薬前後で血圧の差を見る。同じ人物(標本)で結果に差があるのかをみる\n",
    "      * 母集団は1つ\n",
    "      * 差の平均$\\mu$はゼロではないと言えるのか？を検定"
   ]
  },
  {
   "cell_type": "markdown",
   "metadata": {},
   "source": [
    "### t検定の仮説\n",
    "* 帰無仮説と対立仮説は比率の差と同様\n",
    "* 平均値差の標本分布を考える\n",
    "  * 得られた$\\bar{x_1}$ - $\\bar{x_2}$がどのような確率で得られるかを考える"
   ]
  },
  {
   "cell_type": "markdown",
   "metadata": {},
   "source": [
    "### 平均値差の標本分布(大標本の場合)\n",
    "* $\\bar{x_1}$の標本分布：平均$\\mu_1$, 分散$\\frac{\\sigma_1^2}{n_1}$の正規分布\n",
    "* $\\bar{x_2}$の標本分布：平均$\\mu_2$, 分散$\\frac{\\sigma_2^2}{n_2}$の正規分布\n",
    "* 平均の差$\\bar{x_1}$ - $\\bar{x_2}$の標本分布は、**それぞれの平均の標本分布の平均の差と分散の和**になる\n",
    "  * 平均$\\mu$ = $\\mu_1$ - $\\mu_2$, 分散$\\sigma^2$ = $\\frac{\\sigma_1^2}{n_1}$ + $\\frac{\\sigma_2^2}{n_2}$ の正規分布\n",
    "  * ただ、母分散$\\sigma_1^2$および$\\sigma_2^2$は未知なので、それぞれの標本の不偏分散${s_1}'^2$, ${s_2}'^2$で代用する\n",
    "  * 平均$\\mu$ = $\\mu_1$ - $\\mu_2$, 分散$\\sigma^2$ = $\\frac{{s_1}'^2}{n_1}$ + $\\frac{{s_2}'^2}{n_2}$ の正規分布"
   ]
  },
  {
   "cell_type": "markdown",
   "metadata": {},
   "source": [
    "### 平均値差の標本分布(小標本の場合)\n",
    "* 標本が小さい場合、母集団が正規分布でかつ2群の分散が等しい場合に限り、統計検定量はt分布になる\n",
    "* 2つの母集団に共通な$\\sigma_1^2$(=$\\sigma_2^2$)の推定値\n",
    "  * 2つの標本の全データ($n_1$+$n_2$)における平均からの偏差の二乗和を全体の自由度で割ったものを使う\n",
    "$$\n",
    "\\frac{(n_1-1){s_1}'^2+(n_2-1){s_2}'^2}{n_1+n_2-2}\n",
    "$$\n",
    "* よって、$\\bar{x_1}$ - $\\bar{x_2}$の標本分布は、平均$\\mu$=$\\mu_1$-$\\mu_2$, 分散$\\hat{\\sigma}^2$=$\\frac{(n_1-1){s_1}'^2+(n_2-1){s_2}'^2}{n_1+n_2-2}$($\\frac{1}{n_1}$+$\\frac{1}{n_2}$)の分布"
   ]
  },
  {
   "cell_type": "markdown",
   "metadata": {},
   "source": [
    "#### 標本分布の標準化\n",
    "* 上記の標本分布を、平均$\\mu$, 標準偏差$\\hat{\\sigma}$で割り標準化をすると、t分布になる"
   ]
  },
  {
   "cell_type": "markdown",
   "metadata": {},
   "source": [
    "### Pythonによるt検定の実施\n",
    "* スチューデントのt検定: stats.ttest_ind(a, b, equal_var=True)\n",
    "* ウェルチのt検定: stats.ttest_ind(a, b, equal_var=False)\n",
    "  * 第一戻り値はt値\n",
    "  * 第二戻り値はp値\n",
    "  * ※indはindependentの意味。対応なしの場合は2群が独立しているため\n",
    "\n",
    "* Challenge\n",
    "  * データセットを標本と見立てて、男女のチップ率の平均に差があるのかを、スチューデントのt検定および、ウェルチのt検定を使って検定してみよう"
   ]
  },
  {
   "cell_type": "code",
   "execution_count": 7,
   "metadata": {},
   "outputs": [],
   "source": [
    "# データセットの準備\n",
    "df_male = df[df[\"sex\"] == \"Male\"]\n",
    "df_female = df[df[\"sex\"] == \"Female\"]"
   ]
  },
  {
   "cell_type": "code",
   "execution_count": 10,
   "metadata": {},
   "outputs": [
    {
     "name": "stdout",
     "output_type": "stream",
     "text": [
      "0.15765054700429743 0.16649073632892478\n"
     ]
    }
   ],
   "source": [
    "# 検定前に確認\n",
    "print(df_male[\"tip_rate\"].mean(), df_female[\"tip_rate\"].mean())"
   ]
  },
  {
   "cell_type": "code",
   "execution_count": 16,
   "metadata": {},
   "outputs": [
    {
     "data": {
      "text/plain": [
       "<Axes: xlabel='sex', ylabel='tip_rate'>"
      ]
     },
     "execution_count": 16,
     "metadata": {},
     "output_type": "execute_result"
    },
    {
     "data": {
      "image/png": "[encoded data removed]",
      "text/plain": [
       "<Figure size 640x480 with 1 Axes>"
      ]
     },
     "metadata": {},
     "output_type": "display_data"
    }
   ],
   "source": [
    "sns.boxplot(data=df, x=\"sex\", y=\"tip_rate\")"
   ]
  },
  {
   "cell_type": "code",
   "execution_count": 11,
   "metadata": {},
   "outputs": [
    {
     "data": {
      "text/plain": [
       "TtestResult(statistic=-1.0833972270477996, pvalue=0.2797103849605489, df=242.0)"
      ]
     },
     "execution_count": 11,
     "metadata": {},
     "output_type": "execute_result"
    }
   ],
   "source": [
    "# スチューデントのt検定\n",
    "stats.ttest_ind(df_male[\"tip_rate\"], df_female[\"tip_rate\"], equal_var=True)"
   ]
  },
  {
   "cell_type": "code",
   "execution_count": 12,
   "metadata": {},
   "outputs": [
    {
     "data": {
      "text/plain": [
       "TtestResult(statistic=-1.1432770167349968, pvalue=0.2542456188927583, df=206.75874799951296)"
      ]
     },
     "execution_count": 12,
     "metadata": {},
     "output_type": "execute_result"
    }
   ],
   "source": [
    "# ウェルチのt検定\n",
    "stats.ttest_ind(df_male[\"tip_rate\"], df_female[\"tip_rate\"], equal_var=False)"
   ]
  },
  {
   "cell_type": "code",
   "execution_count": null,
   "metadata": {},
   "outputs": [],
   "source": []
  }
 ],
 "metadata": {
  "kernelspec": {
   "display_name": "venv",
   "language": "python",
   "name": "python3"
  },
  "language_info": {
   "codemirror_mode": {
    "name": "ipython",
    "version": 3
   },
   "file_extension": ".py",
   "mimetype": "text/x-python",
   "name": "python",
   "nbconvert_exporter": "python",
   "pygments_lexer": "ipython3",
   "version": "3.11.6"
  }
 },
 "nbformat": 4,
 "nbformat_minor": 2
}
